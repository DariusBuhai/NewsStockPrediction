{
 "cells": [
  {
   "cell_type": "code",
   "execution_count": 2,
   "metadata": {
    "collapsed": true
   },
   "outputs": [],
   "source": [
    "from agent import getState, getStockDataVec, Agent, formatPrice"
   ]
  },
  {
   "cell_type": "code",
   "execution_count": null,
   "outputs": [
    {
     "name": "stderr",
     "output_type": "stream",
     "text": [
      "/usr/local/lib/python3.9/dist-packages/tensorflow/python/keras/optimizer_v2/optimizer_v2.py:374: UserWarning: The `lr` argument is deprecated, use `learning_rate` instead.\n",
      "  warnings.warn(\n"
     ]
    },
    {
     "name": "stdout",
     "output_type": "stream",
     "text": [
      "Episode 0/10\n",
      "Buy: Rs.340.16\n",
      "Sell: Rs.337.14 | Profit: -Rs.3.02\n",
      "Buy: Rs.335.01\n",
      "Buy: Rs.339.64\n",
      "Buy: Rs.340.16\n",
      "Buy: Rs.342.01\n",
      "Buy: Rs.340.64\n",
      "Buy: Rs.339.59\n",
      "Sell: Rs.337.81 | Profit: Rs.2.80\n",
      "Sell: Rs.339.16 | Profit: -Rs.0.48\n",
      "Sell: Rs.342.11 | Profit: Rs.1.95\n",
      "Sell: Rs.341.85 | Profit: -Rs.0.16\n",
      "Buy: Rs.343.69\n",
      "Sell: Rs.339.03 | Profit: -Rs.1.61\n",
      "Buy: Rs.343.33\n",
      "Sell: Rs.350.42 | Profit: Rs.10.83\n",
      "Buy: Rs.348.13\n",
      "Buy: Rs.348.16\n",
      "Buy: Rs.347.85\n",
      "Sell: Rs.345.37 | Profit: Rs.1.68\n",
      "Buy: Rs.352.83\n",
      "Buy: Rs.353.33\n",
      "Sell: Rs.352.80 | Profit: Rs.9.47\n",
      "Sell: Rs.340.18 | Profit: -Rs.7.95\n",
      "Sell: Rs.345.77 | Profit: -Rs.2.39\n",
      "Buy: Rs.351.09\n",
      "Buy: Rs.355.02\n",
      "Buy: Rs.356.44\n",
      "Sell: Rs.358.78 | Profit: Rs.10.93\n",
      "Sell: Rs.359.22 | Profit: Rs.6.39\n",
      "Buy: Rs.361.05\n",
      "Buy: Rs.360.79\n",
      "Sell: Rs.359.25 | Profit: Rs.5.92\n",
      "Sell: Rs.351.52 | Profit: Rs.0.43\n",
      "Sell: Rs.349.59 | Profit: -Rs.5.43\n",
      "Buy: Rs.355.35\n",
      "Sell: Rs.350.66 | Profit: -Rs.5.78\n",
      "Sell: Rs.346.34 | Profit: -Rs.14.71\n",
      "Sell: Rs.350.96 | Profit: -Rs.9.83\n",
      "Buy: Rs.358.07\n",
      "Buy: Rs.362.36\n",
      "Sell: Rs.364.05 | Profit: Rs.8.70\n",
      "Buy: Rs.359.87\n",
      "Buy: Rs.362.07\n",
      "Sell: Rs.359.41 | Profit: Rs.1.34\n",
      "Sell: Rs.357.42 | Profit: -Rs.4.94\n",
      "Sell: Rs.359.43 | Profit: -Rs.0.44\n",
      "Sell: Rs.364.01 | Profit: Rs.1.94\n",
      "Buy: Rs.375.55\n",
      "Sell: Rs.378.25 | Profit: Rs.2.70\n",
      "Buy: Rs.383.63\n",
      "Buy: Rs.383.03\n"
     ]
    }
   ],
   "source": [
    "# Train\n",
    "\n",
    "stock_name = input(\"Enter stock_name, window_size, Episode_count\")\n",
    "window_size = input()\n",
    "episode_count = input()\n",
    "stock_name = str(stock_name)\n",
    "window_size = int(window_size)\n",
    "episode_count = int(episode_count)\n",
    "agent = Agent(window_size)\n",
    "data = getStockDataVec(stock_name)\n",
    "l = len(data) - 1\n",
    "batch_size = 32\n",
    "for e in range(episode_count + 1):\n",
    "    print(\"Episode \" + str(e) + \"/\" + str(episode_count))\n",
    "    state = getState(data, 0, window_size + 1)\n",
    "    total_profit = 0\n",
    "    agent.inventory = []\n",
    "    for t in range(l):\n",
    "        action = agent.act(state)\n",
    "        # sit\n",
    "        next_state = getState(data, t + 1, window_size + 1)\n",
    "        reward = 0\n",
    "        if action == 1:  # buy\n",
    "            agent.inventory.append(data[t])\n",
    "            print(\"Buy: \" + formatPrice(data[t]))\n",
    "        elif action == 2 and len(agent.inventory) > 0:  # sell\n",
    "            bought_price = window_size_price = agent.inventory.pop(0)\n",
    "            reward = max(data[t] - bought_price, 0)\n",
    "            total_profit += data[t] - bought_price\n",
    "            print(\"Sell: \" + formatPrice(data[t]) + \" | Profit: \" + formatPrice(data[t] - bought_price))\n",
    "        done = True if t == l - 1 else False\n",
    "        agent.memory.append((state, action, reward, next_state, done))\n",
    "        state = next_state\n",
    "        if done:\n",
    "            print(\"--------------------------------\")\n",
    "            print(\"Total Profit: \" + formatPrice(total_profit))\n",
    "            print(\"--------------------------------\")\n",
    "        if len(agent.memory) > batch_size:\n",
    "            agent.expReplay(batch_size)\n",
    "    if e % 10 == 0:\n",
    "        agent.model.save(str(e))"
   ],
   "metadata": {
    "collapsed": false,
    "pycharm": {
     "name": "#%%\n",
     "is_executing": true
    }
   }
  },
  {
   "cell_type": "code",
   "execution_count": null,
   "outputs": [],
   "source": [
    "from keras.models import load_model\n",
    "\n",
    "# Eval\n",
    "stock_name = input(\"Enter Stock_name, Model_name\")\n",
    "model_name = input()\n",
    "model = load_model(model_name)\n",
    "window_size = model.layers[0].input.shape.as_list()[1]\n",
    "agent = Agent(window_size, True, model_name)\n",
    "data = getStockDataVec(stock_name)\n",
    "print(data)\n",
    "l = len(data) - 1\n",
    "batch_size = 32\n",
    "state = getState(data, 0, window_size + 1)\n",
    "print(state)\n",
    "total_profit = 0\n",
    "agent.inventory = []\n",
    "print(l)\n",
    "for t in range(l):\n",
    "    action = agent.act(state)\n",
    "    print(action)\n",
    "    # sit\n",
    "    next_state = getState(data, t + 1, window_size + 1)\n",
    "    reward = 0\n",
    "    if action == 1:  # buy\n",
    "        agent.inventory.append(data[t])\n",
    "        print(\"Buy: \" + formatPrice(data[t]))\n",
    "    elif action == 2 and len(agent.inventory) > 0:  # sell\n",
    "        bought_price = agent.inventory.pop(0)\n",
    "        reward = max(data[t] - bought_price, 0)\n",
    "        total_profit += data[t] - bought_price\n",
    "        print(\"Sell: \" + formatPrice(data[t]) + \" | Profit: \" + formatPrice(data[t] - bought_price))\n",
    "    done = True if t == l - 1 else False\n",
    "    agent.memory.append((state, action, reward, next_state, done))\n",
    "    state = next_state\n",
    "    if done:\n",
    "        print(\"--------------------------------\")\n",
    "        print(stock_name + \" Total Profit: \" + formatPrice(total_profit))\n",
    "        print(\"--------------------------------\")\n",
    "        print(\"Total profit is:\", formatPrice(total_profit))"
   ],
   "metadata": {
    "collapsed": false,
    "pycharm": {
     "name": "#%%\n",
     "is_executing": true
    }
   }
  },
  {
   "cell_type": "code",
   "execution_count": null,
   "outputs": [],
   "source": [],
   "metadata": {
    "collapsed": false,
    "pycharm": {
     "name": "#%%\n"
    }
   }
  }
 ],
 "metadata": {
  "kernelspec": {
   "display_name": "Python 3",
   "language": "python",
   "name": "python3"
  },
  "language_info": {
   "codemirror_mode": {
    "name": "ipython",
    "version": 2
   },
   "file_extension": ".py",
   "mimetype": "text/x-python",
   "name": "python",
   "nbconvert_exporter": "python",
   "pygments_lexer": "ipython2",
   "version": "2.7.6"
  }
 },
 "nbformat": 4,
 "nbformat_minor": 0
}